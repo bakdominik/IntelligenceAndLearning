{
 "cells": [
  {
   "cell_type": "markdown",
   "metadata": {},
   "source": [
    "# Simple Neural Network for basic logic functions"
   ]
  },
  {
   "cell_type": "markdown",
   "metadata": {},
   "source": [
    "I've decided to create simple nn to gain better understanding. I am going to create 2 layer Neural Network that should learn the ideal set of weights to represent AND and OR functions"
   ]
  },
  {
   "cell_type": "markdown",
   "metadata": {},
   "source": [
    "In order to teach nn we need a cost funciton. In this cas I'm gona use sum of squares error \n",
    "Our goal in training is to find the best set of weights and biases that minimizes the cost function.\n",
    "\n",
    "Now that we’ve measured the error of our prediction we need to use backpropagation to update our weights and biases.\n",
    "In order to know the appropriate amount to adjust the weights and biases by, we need to know the derivative of the loss function with respect to the weights and biases.\n",
    "To do this we need to use <b>chain rule</b> because the equation of the loss function does not contain the weights and biases\n",
    "\n",
    "Here are the calculations: https://miro.medium.com/max/1400/1*7zxb2lfWWKaVxnmq2o69Mw.png\n",
    "\n",
    "So now let's code all that"
   ]
  },
  {
   "cell_type": "code",
   "execution_count": 162,
   "metadata": {},
   "outputs": [],
   "source": [
    "import numpy as np\n",
    "\n",
    "# Activation function\n",
    "def sigmoid(p):\n",
    "    return 1/(1+np.exp(-p))\n",
    "\n",
    "# Derivative of sigmoid\n",
    "def sigmoid_derivative(p):\n",
    "    return p * (1 - p)\n",
    "\n",
    "\n",
    "class NeuralNetwork:\n",
    "    def __init__(self, x, y):\n",
    "        self.input      = x\n",
    "        \n",
    "        # Random initial weights         \n",
    "        self.weights1   = np.random.rand(self.input.shape[1],4) \n",
    "        self.weights2   = np.random.rand(4,1)                 \n",
    "        self.y          = y\n",
    "        self.output     = np.zeros(4,)\n",
    "\n",
    "    def feedforward(self):\n",
    "        self.layer1 = sigmoid(np.dot(self.input, self.weights1))\n",
    "        self.output = sigmoid(np.dot(self.layer1, self.weights2))\n",
    "        return self.output\n",
    "    def backprop(self):\n",
    "        d_weights2 = np.dot(self.layer1.T, 2*(self.y -self.output)*sigmoid_derivative(self.output))\n",
    "        d_weights1 = np.dot(self.input.T, np.dot(2*(self.y -self.output)*sigmoid_derivative(self.output), self.weights2.T)*sigmoid_derivative(self.layer1))\n",
    "    \n",
    "        self.weights1 += d_weights1\n",
    "        self.weights2 += d_weights2\n",
    "\n",
    "    def train(self, X, y):\n",
    "        self.output = self.feedforward()\n",
    "        self.backprop()"
   ]
  },
  {
   "cell_type": "markdown",
   "metadata": {},
   "source": [
    "## Let's do some tests"
   ]
  },
  {
   "cell_type": "code",
   "execution_count": 177,
   "metadata": {},
   "outputs": [
    {
     "data": {
      "text/html": [
       "<style  type=\"text/css\" >\n",
       "    #T_bee6e0c4_8548_11ea_ba41_45a500d18c3arow0_col0 {\n",
       "            width:  200px;\n",
       "            height:  100px;\n",
       "            border-color:  white;\n",
       "        }    #T_bee6e0c4_8548_11ea_ba41_45a500d18c3arow0_col1 {\n",
       "            width:  200px;\n",
       "            height:  100px;\n",
       "            border-color:  white;\n",
       "        }    #T_bee6e0c4_8548_11ea_ba41_45a500d18c3arow0_col2 {\n",
       "            width:  200px;\n",
       "            height:  100px;\n",
       "            border-color:  white;\n",
       "        }    #T_bee6e0c4_8548_11ea_ba41_45a500d18c3arow1_col0 {\n",
       "            width:  200px;\n",
       "            height:  100px;\n",
       "            border-color:  white;\n",
       "        }    #T_bee6e0c4_8548_11ea_ba41_45a500d18c3arow1_col1 {\n",
       "            width:  200px;\n",
       "            height:  100px;\n",
       "            border-color:  white;\n",
       "        }    #T_bee6e0c4_8548_11ea_ba41_45a500d18c3arow1_col2 {\n",
       "            width:  200px;\n",
       "            height:  100px;\n",
       "            border-color:  white;\n",
       "        }    #T_bee6e0c4_8548_11ea_ba41_45a500d18c3arow2_col0 {\n",
       "            width:  200px;\n",
       "            height:  100px;\n",
       "            border-color:  white;\n",
       "        }    #T_bee6e0c4_8548_11ea_ba41_45a500d18c3arow2_col1 {\n",
       "            width:  200px;\n",
       "            height:  100px;\n",
       "            border-color:  white;\n",
       "        }    #T_bee6e0c4_8548_11ea_ba41_45a500d18c3arow2_col2 {\n",
       "            width:  200px;\n",
       "            height:  100px;\n",
       "            border-color:  white;\n",
       "        }    #T_bee6e0c4_8548_11ea_ba41_45a500d18c3arow3_col0 {\n",
       "            width:  200px;\n",
       "            height:  100px;\n",
       "            border-color:  white;\n",
       "        }    #T_bee6e0c4_8548_11ea_ba41_45a500d18c3arow3_col1 {\n",
       "            width:  200px;\n",
       "            height:  100px;\n",
       "            border-color:  white;\n",
       "        }    #T_bee6e0c4_8548_11ea_ba41_45a500d18c3arow3_col2 {\n",
       "            width:  200px;\n",
       "            height:  100px;\n",
       "            border-color:  white;\n",
       "        }</style><table id=\"T_bee6e0c4_8548_11ea_ba41_45a500d18c3a\" ><thead>    <tr>        <th class=\"blank level0\" ></th>        <th class=\"col_heading level0 col0\" >X1</th>        <th class=\"col_heading level0 col1\" >X2</th>        <th class=\"col_heading level0 col2\" >y</th>    </tr></thead><tbody>\n",
       "                <tr>\n",
       "                        <th id=\"T_bee6e0c4_8548_11ea_ba41_45a500d18c3alevel0_row0\" class=\"row_heading level0 row0\" >0</th>\n",
       "                        <td id=\"T_bee6e0c4_8548_11ea_ba41_45a500d18c3arow0_col0\" class=\"data row0 col0\" >0</td>\n",
       "                        <td id=\"T_bee6e0c4_8548_11ea_ba41_45a500d18c3arow0_col1\" class=\"data row0 col1\" >0</td>\n",
       "                        <td id=\"T_bee6e0c4_8548_11ea_ba41_45a500d18c3arow0_col2\" class=\"data row0 col2\" >0</td>\n",
       "            </tr>\n",
       "            <tr>\n",
       "                        <th id=\"T_bee6e0c4_8548_11ea_ba41_45a500d18c3alevel0_row1\" class=\"row_heading level0 row1\" >1</th>\n",
       "                        <td id=\"T_bee6e0c4_8548_11ea_ba41_45a500d18c3arow1_col0\" class=\"data row1 col0\" >0</td>\n",
       "                        <td id=\"T_bee6e0c4_8548_11ea_ba41_45a500d18c3arow1_col1\" class=\"data row1 col1\" >1</td>\n",
       "                        <td id=\"T_bee6e0c4_8548_11ea_ba41_45a500d18c3arow1_col2\" class=\"data row1 col2\" >1</td>\n",
       "            </tr>\n",
       "            <tr>\n",
       "                        <th id=\"T_bee6e0c4_8548_11ea_ba41_45a500d18c3alevel0_row2\" class=\"row_heading level0 row2\" >2</th>\n",
       "                        <td id=\"T_bee6e0c4_8548_11ea_ba41_45a500d18c3arow2_col0\" class=\"data row2 col0\" >1</td>\n",
       "                        <td id=\"T_bee6e0c4_8548_11ea_ba41_45a500d18c3arow2_col1\" class=\"data row2 col1\" >0</td>\n",
       "                        <td id=\"T_bee6e0c4_8548_11ea_ba41_45a500d18c3arow2_col2\" class=\"data row2 col2\" >1</td>\n",
       "            </tr>\n",
       "            <tr>\n",
       "                        <th id=\"T_bee6e0c4_8548_11ea_ba41_45a500d18c3alevel0_row3\" class=\"row_heading level0 row3\" >3</th>\n",
       "                        <td id=\"T_bee6e0c4_8548_11ea_ba41_45a500d18c3arow3_col0\" class=\"data row3 col0\" >1</td>\n",
       "                        <td id=\"T_bee6e0c4_8548_11ea_ba41_45a500d18c3arow3_col1\" class=\"data row3 col1\" >1</td>\n",
       "                        <td id=\"T_bee6e0c4_8548_11ea_ba41_45a500d18c3arow3_col2\" class=\"data row3 col2\" >1</td>\n",
       "            </tr>\n",
       "    </tbody></table>"
      ],
      "text/plain": [
       "<pandas.io.formats.style.Styler at 0x7f42caef39d0>"
      ]
     },
     "execution_count": 177,
     "metadata": {},
     "output_type": "execute_result"
    }
   ],
   "source": [
    "X=np.array(([0,0],[0,1],[1,0],[1,1]),dtype=float)\n",
    "y=np.array(([0],[1],[1],[1]))\n",
    "\n",
    "df = pd.DataFrame(data=np.concatenate((X, y),axis=1),columns=[\"X1\", \"X2\",\"y\"],dtype=np.int8)\n",
    "df.set_index('X1')\n",
    "\n",
    "df.style.set_properties(**{'width': '200px',\n",
    "                           'height': '100px',\n",
    "                           'border-color': 'white'})\n"
   ]
  },
  {
   "cell_type": "code",
   "execution_count": 189,
   "metadata": {},
   "outputs": [
    {
     "name": "stdout",
     "output_type": "stream",
     "text": [
      "Cost after 2000 iterations: 0.00032661548884722213\n"
     ]
    },
    {
     "data": {
      "text/html": [
       "<style  type=\"text/css\" >\n",
       "    #T_e38b9b58_8549_11ea_ba41_45a500d18c3arow0_col0 {\n",
       "            width:  200px;\n",
       "            height:  100px;\n",
       "            border-color:  white;\n",
       "        }    #T_e38b9b58_8549_11ea_ba41_45a500d18c3arow0_col1 {\n",
       "            width:  200px;\n",
       "            height:  100px;\n",
       "            border-color:  white;\n",
       "        }    #T_e38b9b58_8549_11ea_ba41_45a500d18c3arow0_col2 {\n",
       "            width:  200px;\n",
       "            height:  100px;\n",
       "            border-color:  white;\n",
       "        }    #T_e38b9b58_8549_11ea_ba41_45a500d18c3arow1_col0 {\n",
       "            width:  200px;\n",
       "            height:  100px;\n",
       "            border-color:  white;\n",
       "        }    #T_e38b9b58_8549_11ea_ba41_45a500d18c3arow1_col1 {\n",
       "            width:  200px;\n",
       "            height:  100px;\n",
       "            border-color:  white;\n",
       "        }    #T_e38b9b58_8549_11ea_ba41_45a500d18c3arow1_col2 {\n",
       "            width:  200px;\n",
       "            height:  100px;\n",
       "            border-color:  white;\n",
       "        }    #T_e38b9b58_8549_11ea_ba41_45a500d18c3arow2_col0 {\n",
       "            width:  200px;\n",
       "            height:  100px;\n",
       "            border-color:  white;\n",
       "        }    #T_e38b9b58_8549_11ea_ba41_45a500d18c3arow2_col1 {\n",
       "            width:  200px;\n",
       "            height:  100px;\n",
       "            border-color:  white;\n",
       "        }    #T_e38b9b58_8549_11ea_ba41_45a500d18c3arow2_col2 {\n",
       "            width:  200px;\n",
       "            height:  100px;\n",
       "            border-color:  white;\n",
       "        }    #T_e38b9b58_8549_11ea_ba41_45a500d18c3arow3_col0 {\n",
       "            width:  200px;\n",
       "            height:  100px;\n",
       "            border-color:  white;\n",
       "        }    #T_e38b9b58_8549_11ea_ba41_45a500d18c3arow3_col1 {\n",
       "            width:  200px;\n",
       "            height:  100px;\n",
       "            border-color:  white;\n",
       "        }    #T_e38b9b58_8549_11ea_ba41_45a500d18c3arow3_col2 {\n",
       "            width:  200px;\n",
       "            height:  100px;\n",
       "            border-color:  white;\n",
       "        }</style><table id=\"T_e38b9b58_8549_11ea_ba41_45a500d18c3a\" ><thead>    <tr>        <th class=\"blank level0\" ></th>        <th class=\"col_heading level0 col0\" >before</th>        <th class=\"col_heading level0 col1\" >after</th>        <th class=\"col_heading level0 col2\" >expected</th>    </tr></thead><tbody>\n",
       "                <tr>\n",
       "                        <th id=\"T_e38b9b58_8549_11ea_ba41_45a500d18c3alevel0_row0\" class=\"row_heading level0 row0\" >0</th>\n",
       "                        <td id=\"T_e38b9b58_8549_11ea_ba41_45a500d18c3arow0_col0\" class=\"data row0 col0\" >0.729514</td>\n",
       "                        <td id=\"T_e38b9b58_8549_11ea_ba41_45a500d18c3arow0_col1\" class=\"data row0 col1\" >0.028269</td>\n",
       "                        <td id=\"T_e38b9b58_8549_11ea_ba41_45a500d18c3arow0_col2\" class=\"data row0 col2\" >0.000000</td>\n",
       "            </tr>\n",
       "            <tr>\n",
       "                        <th id=\"T_e38b9b58_8549_11ea_ba41_45a500d18c3alevel0_row1\" class=\"row_heading level0 row1\" >1</th>\n",
       "                        <td id=\"T_e38b9b58_8549_11ea_ba41_45a500d18c3arow1_col0\" class=\"data row1 col0\" >0.766749</td>\n",
       "                        <td id=\"T_e38b9b58_8549_11ea_ba41_45a500d18c3arow1_col1\" class=\"data row1 col1\" >0.984665</td>\n",
       "                        <td id=\"T_e38b9b58_8549_11ea_ba41_45a500d18c3arow1_col2\" class=\"data row1 col2\" >1.000000</td>\n",
       "            </tr>\n",
       "            <tr>\n",
       "                        <th id=\"T_e38b9b58_8549_11ea_ba41_45a500d18c3alevel0_row2\" class=\"row_heading level0 row2\" >2</th>\n",
       "                        <td id=\"T_e38b9b58_8549_11ea_ba41_45a500d18c3arow2_col0\" class=\"data row2 col0\" >0.773800</td>\n",
       "                        <td id=\"T_e38b9b58_8549_11ea_ba41_45a500d18c3arow2_col1\" class=\"data row2 col1\" >0.985909</td>\n",
       "                        <td id=\"T_e38b9b58_8549_11ea_ba41_45a500d18c3arow2_col2\" class=\"data row2 col2\" >1.000000</td>\n",
       "            </tr>\n",
       "            <tr>\n",
       "                        <th id=\"T_e38b9b58_8549_11ea_ba41_45a500d18c3alevel0_row3\" class=\"row_heading level0 row3\" >3</th>\n",
       "                        <td id=\"T_e38b9b58_8549_11ea_ba41_45a500d18c3arow3_col0\" class=\"data row3 col0\" >0.802427</td>\n",
       "                        <td id=\"T_e38b9b58_8549_11ea_ba41_45a500d18c3arow3_col1\" class=\"data row3 col1\" >0.991421</td>\n",
       "                        <td id=\"T_e38b9b58_8549_11ea_ba41_45a500d18c3arow3_col2\" class=\"data row3 col2\" >1.000000</td>\n",
       "            </tr>\n",
       "    </tbody></table>"
      ],
      "text/plain": [
       "<pandas.io.formats.style.Styler at 0x7f42cae80910>"
      ]
     },
     "execution_count": 189,
     "metadata": {},
     "output_type": "execute_result"
    }
   ],
   "source": [
    "net = NeuralNetwork(X,y)\n",
    "before = net.feedforward()\n",
    "for i in range(2000): # trains the NN 1,000 times\n",
    "    net.train(X, y)\n",
    "    \n",
    "after = net.feedforward()\n",
    "df = pd.DataFrame(data=np.concatenate((before, after, y),axis=1),columns=[\"before\",\"after\",\"expected\"])\n",
    "\n",
    "\n",
    "print(f\"Cost after 2000 iterations: {np.mean(np.square(y - after))}\")\n",
    "df.style.set_properties(**{'width': '200px',\n",
    "                           'height': '100px',\n",
    "                           'border-color': 'white',})"
   ]
  },
  {
   "cell_type": "code",
   "execution_count": null,
   "metadata": {},
   "outputs": [],
   "source": []
  }
 ],
 "metadata": {
  "kernelspec": {
   "display_name": "Python 3",
   "language": "python",
   "name": "python3"
  },
  "language_info": {
   "codemirror_mode": {
    "name": "ipython",
    "version": 3
   },
   "file_extension": ".py",
   "mimetype": "text/x-python",
   "name": "python",
   "nbconvert_exporter": "python",
   "pygments_lexer": "ipython3",
   "version": "3.7.6"
  }
 },
 "nbformat": 4,
 "nbformat_minor": 4
}
