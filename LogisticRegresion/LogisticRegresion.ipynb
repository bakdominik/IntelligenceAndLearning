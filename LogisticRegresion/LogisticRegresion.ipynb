{
 "cells": [
  {
   "cell_type": "markdown",
   "metadata": {},
   "source": [
    "## Logistic Regresion \n",
    "\n",
    "This notebook is created to solve Logistic Regresion using python\n",
    "\n",
    "Suppose that you are the administrator of a university department and\n",
    "you want to determine each applicant’s chance of admission based on their\n",
    "results on two exams. You have historical data from previous applicants\n",
    "that you can use as a training set for logistic regression. For each training\n",
    "example, you have the applicant’s scores on two exams and the admissions\n",
    "decision.\n",
    "Your task is to build a classification model that estimates an applicant’s\n",
    "probability of admission based the scores from those two exams. This outline\n",
    "and the framework code in ex2.m will guide you through the exercise."
   ]
  },
  {
   "cell_type": "markdown",
   "metadata": {},
   "source": [
    " We start the exercise by first plotting the data to understand the problem we are working with."
   ]
  },
  {
   "cell_type": "code",
   "execution_count": 1,
   "metadata": {},
   "outputs": [],
   "source": [
    "import pandas as pd\n",
    "from matplotlib import pyplot as plt\n",
    "import numpy as np\n",
    "import math\n",
    "from scipy.optimize import fmin_tnc"
   ]
  },
  {
   "cell_type": "code",
   "execution_count": 2,
   "metadata": {},
   "outputs": [
    {
     "data": {
      "text/html": [
       "<div>\n",
       "<style scoped>\n",
       "    .dataframe tbody tr th:only-of-type {\n",
       "        vertical-align: middle;\n",
       "    }\n",
       "\n",
       "    .dataframe tbody tr th {\n",
       "        vertical-align: top;\n",
       "    }\n",
       "\n",
       "    .dataframe thead th {\n",
       "        text-align: right;\n",
       "    }\n",
       "</style>\n",
       "<table border=\"1\" class=\"dataframe\">\n",
       "  <thead>\n",
       "    <tr style=\"text-align: right;\">\n",
       "      <th></th>\n",
       "      <th>exam_1</th>\n",
       "      <th>exam_2</th>\n",
       "      <th>admission</th>\n",
       "    </tr>\n",
       "  </thead>\n",
       "  <tbody>\n",
       "    <tr>\n",
       "      <th>0</th>\n",
       "      <td>34.623660</td>\n",
       "      <td>78.024693</td>\n",
       "      <td>0</td>\n",
       "    </tr>\n",
       "    <tr>\n",
       "      <th>1</th>\n",
       "      <td>30.286711</td>\n",
       "      <td>43.894998</td>\n",
       "      <td>0</td>\n",
       "    </tr>\n",
       "    <tr>\n",
       "      <th>2</th>\n",
       "      <td>35.847409</td>\n",
       "      <td>72.902198</td>\n",
       "      <td>0</td>\n",
       "    </tr>\n",
       "    <tr>\n",
       "      <th>3</th>\n",
       "      <td>60.182599</td>\n",
       "      <td>86.308552</td>\n",
       "      <td>1</td>\n",
       "    </tr>\n",
       "    <tr>\n",
       "      <th>4</th>\n",
       "      <td>79.032736</td>\n",
       "      <td>75.344376</td>\n",
       "      <td>1</td>\n",
       "    </tr>\n",
       "    <tr>\n",
       "      <th>...</th>\n",
       "      <td>...</td>\n",
       "      <td>...</td>\n",
       "      <td>...</td>\n",
       "    </tr>\n",
       "    <tr>\n",
       "      <th>95</th>\n",
       "      <td>83.489163</td>\n",
       "      <td>48.380286</td>\n",
       "      <td>1</td>\n",
       "    </tr>\n",
       "    <tr>\n",
       "      <th>96</th>\n",
       "      <td>42.261701</td>\n",
       "      <td>87.103851</td>\n",
       "      <td>1</td>\n",
       "    </tr>\n",
       "    <tr>\n",
       "      <th>97</th>\n",
       "      <td>99.315009</td>\n",
       "      <td>68.775409</td>\n",
       "      <td>1</td>\n",
       "    </tr>\n",
       "    <tr>\n",
       "      <th>98</th>\n",
       "      <td>55.340018</td>\n",
       "      <td>64.931938</td>\n",
       "      <td>1</td>\n",
       "    </tr>\n",
       "    <tr>\n",
       "      <th>99</th>\n",
       "      <td>74.775893</td>\n",
       "      <td>89.529813</td>\n",
       "      <td>1</td>\n",
       "    </tr>\n",
       "  </tbody>\n",
       "</table>\n",
       "<p>100 rows × 3 columns</p>\n",
       "</div>"
      ],
      "text/plain": [
       "       exam_1     exam_2  admission\n",
       "0   34.623660  78.024693          0\n",
       "1   30.286711  43.894998          0\n",
       "2   35.847409  72.902198          0\n",
       "3   60.182599  86.308552          1\n",
       "4   79.032736  75.344376          1\n",
       "..        ...        ...        ...\n",
       "95  83.489163  48.380286          1\n",
       "96  42.261701  87.103851          1\n",
       "97  99.315009  68.775409          1\n",
       "98  55.340018  64.931938          1\n",
       "99  74.775893  89.529813          1\n",
       "\n",
       "[100 rows x 3 columns]"
      ]
     },
     "execution_count": 2,
     "metadata": {},
     "output_type": "execute_result"
    }
   ],
   "source": [
    "data = pd.read_csv('ex2data1.txt')\n",
    "data"
   ]
  },
  {
   "cell_type": "code",
   "execution_count": 3,
   "metadata": {},
   "outputs": [
    {
     "data": {
      "image/png": "[encoded data removed]",
      "text/plain": [
       "<Figure size 1080x720 with 1 Axes>"
      ]
     },
     "metadata": {
      "needs_background": "light"
     },
     "output_type": "display_data"
    }
   ],
   "source": [
    "admited = data[data.admission == 1]\n",
    "declined = data[data.admission == 0]\n",
    "\n",
    "plt.figure(figsize=(15,10))\n",
    "plt.scatter(admited.exam_1,admited.exam_2,marker='o')\n",
    "plt.scatter(declined.exam_1,declined.exam_2,marker='X',color='red')\n",
    "plt.xlabel(\"Result on 1 exam\")\n",
    "plt.ylabel(\"Result on 2 exam\")\n",
    "plt.legend([\"admited\",\"declined\"])\n",
    "plt.show()"
   ]
  },
  {
   "cell_type": "markdown",
   "metadata": {},
   "source": [
    "Now lets split our data to training and test data"
   ]
  },
  {
   "cell_type": "code",
   "execution_count": 4,
   "metadata": {},
   "outputs": [],
   "source": [
    "\n",
    "# Our dataset consists of 100 data points. So splitting it on a 70:30 ratio. \n",
    "\n",
    "# First 70 Data points for Training\n",
    "data_train = data.iloc[:70,:]\n",
    "\n",
    "#Last 30 for Testing\n",
    "data_test = data.iloc[70:,:]"
   ]
  },
  {
   "cell_type": "markdown",
   "metadata": {},
   "source": [
    "Logistic regression hypothesis is defined as:\n",
    "\n",
    "$ h_θ (x) = g(θ^T x), $\n",
    "\n",
    "where function g is the sigmoid function. The sigmoid function is defined as:\n",
    "\n",
    "$ g(z) =\\frac{1}{(1 + e^{−z})} $\n",
    "\n",
    "\n",
    "Lets implement this function\n",
    "\n",
    "\n"
   ]
  },
  {
   "cell_type": "code",
   "execution_count": 5,
   "metadata": {},
   "outputs": [],
   "source": [
    "\n",
    "def sigmoid(x):\n",
    "    return 1/(1+np.exp(-x))\n"
   ]
  },
  {
   "cell_type": "markdown",
   "metadata": {},
   "source": [
    "Now lets define gradient and cost functions\n",
    "\n",
    "cost function in logistic regression is\n",
    "\n",
    "$ J(θ) = \\frac{1}{m} \\sum_{i=1}^{m}[−y^{i}log(h_θ (x^i)) − (1 − y^i ) log(1 − h_θ (x^i ))]$\n",
    "\n",
    "and the gradient of the cost is a vector of the same length as $θ$ where the j th\n",
    "element (for j = 0, 1, . . . , n) is defined as follows:\n",
    "\n",
    "\n",
    "$ \\frac{∂J(θ)}{∂θ_j} \\sum_{i=1}^{m} \\frac{1}{m}(h_θ(x^i) − y^i )x_j^i$\n",
    "\n"
   ]
  },
  {
   "cell_type": "code",
   "execution_count": 6,
   "metadata": {},
   "outputs": [],
   "source": [
    "# #  Setup the data matrix appropriately, and add ones for the intercept term\n",
    "X, y = data_train.iloc[:,:-1], data_train.admission\n",
    "m, n = data_train.shape\n",
    "\n",
    "# Add intercept term to X\n",
    "X = np.concatenate((np.ones((m, 1)), X), axis=1)\n",
    "\n",
    "\n",
    "# Initialize fitting parameters\n",
    "initial_theta = np.zeros(n)\n",
    "\n",
    "def cost_function(theta, X, y):\n",
    "\n",
    "    m = y.size  # number of training examples\n",
    "    h = sigmoid(np.dot( X,theta.T))\n",
    "    \n",
    "    a = np.multiply(y , np.log(h))\n",
    "    b = np.multiply((1 - y) , np.log(1 - h))\n",
    "\n",
    "    J = -1 *(1./m ) * ((a+b).sum())\n",
    "    \n",
    "    return J\n",
    "\n",
    "def gradient(theta, x, y):\n",
    "    # Computes the gradient of the cost function at the point theta\n",
    "    m = x.shape[0]\n",
    "    return (1 / m) * np.dot(x.T, sigmoid(np.dot(x, theta)) - y)"
   ]
  },
  {
   "cell_type": "code",
   "execution_count": 7,
   "metadata": {},
   "outputs": [
    {
     "name": "stdout",
     "output_type": "stream",
     "text": [
      "\n",
      "Cost at initial theta (vector of zeros) = 0.6931471805599454\n"
     ]
    }
   ],
   "source": [
    "print(\"\")\n",
    "print(f\"Cost at initial theta (vector of zeros) = {cost_function(initial_theta, X, y)}\")"
   ]
  },
  {
   "cell_type": "markdown",
   "metadata": {},
   "source": [
    "Now it is time to optimize our theta parameters"
   ]
  },
  {
   "cell_type": "code",
   "execution_count": 8,
   "metadata": {},
   "outputs": [],
   "source": [
    "# optimize theta using scipy minimize\n",
    "opt = fmin_tnc(func=cost_function, x0=initial_theta,\n",
    "                  fprime=gradient,args=(X, y))"
   ]
  },
  {
   "cell_type": "code",
   "execution_count": 9,
   "metadata": {},
   "outputs": [],
   "source": [
    "theta=opt[0]"
   ]
  },
  {
   "cell_type": "code",
   "execution_count": 10,
   "metadata": {},
   "outputs": [
    {
     "name": "stdout",
     "output_type": "stream",
     "text": [
      "theta: [-24.81893342   0.20851311   0.18648929]\n"
     ]
    }
   ],
   "source": [
    "print(f'theta: {theta}')"
   ]
  },
  {
   "cell_type": "code",
   "execution_count": 11,
   "metadata": {},
   "outputs": [
    {
     "data": {
      "text/plain": [
       "0.20258644346894986"
      ]
     },
     "execution_count": 11,
     "metadata": {},
     "output_type": "execute_result"
    }
   ],
   "source": [
    "cost_function(theta, X, y)"
   ]
  },
  {
   "cell_type": "markdown",
   "metadata": {},
   "source": [
    "Now lets plot our decision boundry"
   ]
  },
  {
   "cell_type": "code",
   "execution_count": 12,
   "metadata": {},
   "outputs": [
    {
     "data": {
      "image/png": "[encoded data removed]",
      "text/plain": [
       "<Figure size 1080x720 with 1 Axes>"
      ]
     },
     "metadata": {
      "needs_background": "light"
     },
     "output_type": "display_data"
    }
   ],
   "source": [
    "admited = data[data.admission == 1]\n",
    "declined = data[data.admission == 0]\n",
    "\n",
    "plt.figure(figsize=(15,10))\n",
    "plt.scatter(admited.exam_1,admited.exam_2,marker='o')\n",
    "plt.scatter(declined.exam_1,declined.exam_2,marker='X',color='red')\n",
    "plt.xlabel(\"Result on 1 exam\")\n",
    "plt.ylabel(\"Result on 2 exam\")\n",
    "plt.legend([\"admited\",\"declined\",\"decision boundry\"])\n",
    "\n",
    "plot_X = np.array([np.amin(data.iloc[:, 1]) - 2, np.amax(data.iloc[:, 1]) + 2])\n",
    "plot_y = -1.0 / theta[2] * (theta[1] * plot_X + theta[0])\n",
    "plt.plot(plot_X, plot_y)\n",
    "\n",
    "\n",
    "\n",
    "\n",
    "plt.show()"
   ]
  },
  {
   "cell_type": "markdown",
   "metadata": {},
   "source": [
    "Now we can actualy use our parameters to predict wheter student will be admited"
   ]
  },
  {
   "cell_type": "code",
   "execution_count": 13,
   "metadata": {},
   "outputs": [
    {
     "name": "stderr",
     "output_type": "stream",
     "text": [
      "/home/dominik/anaconda3/lib/python3.7/site-packages/ipykernel_launcher.py:7: DeprecationWarning: elementwise comparison failed; this will raise an error in the future.\n",
      "  import sys\n"
     ]
    },
    {
     "ename": "ValueError",
     "evalue": "Lengths must match to compare",
     "output_type": "error",
     "traceback": [
      "\u001b[0;31m---------------------------------------------------------------------------\u001b[0m",
      "\u001b[0;31mValueError\u001b[0m                                Traceback (most recent call last)",
      "\u001b[0;32m<ipython-input-13-df94eebefc3e>\u001b[0m in \u001b[0;36m<module>\u001b[0;34m\u001b[0m\n\u001b[1;32m     14\u001b[0m \u001b[0;34m\u001b[0m\u001b[0m\n\u001b[1;32m     15\u001b[0m \u001b[0;34m\u001b[0m\u001b[0m\n\u001b[0;32m---> 16\u001b[0;31m \u001b[0macc\u001b[0m \u001b[0;34m=\u001b[0m \u001b[0maccuracy\u001b[0m\u001b[0;34m(\u001b[0m\u001b[0mdata_test\u001b[0m\u001b[0;34m,\u001b[0m\u001b[0mdata\u001b[0m\u001b[0;34m.\u001b[0m\u001b[0madmission\u001b[0m \u001b[0;34m)\u001b[0m\u001b[0;34m\u001b[0m\u001b[0;34m\u001b[0m\u001b[0m\n\u001b[0m\u001b[1;32m     17\u001b[0m \u001b[0mprint\u001b[0m\u001b[0;34m(\u001b[0m\u001b[0;34mf\"Accuraccy of our model is: {acc}%\"\u001b[0m\u001b[0;34m)\u001b[0m\u001b[0;34m\u001b[0m\u001b[0;34m\u001b[0m\u001b[0m\n",
      "\u001b[0;32m<ipython-input-13-df94eebefc3e>\u001b[0m in \u001b[0;36maccuracy\u001b[0;34m(x, actual_classes, probab_threshold)\u001b[0m\n\u001b[1;32m      5\u001b[0m                          probab_threshold).astype(int)\n\u001b[1;32m      6\u001b[0m     \u001b[0mpredicted_classes\u001b[0m \u001b[0;34m=\u001b[0m \u001b[0mpredicted_classes\u001b[0m\u001b[0;34m.\u001b[0m\u001b[0mflatten\u001b[0m\u001b[0;34m(\u001b[0m\u001b[0;34m)\u001b[0m\u001b[0;34m\u001b[0m\u001b[0;34m\u001b[0m\u001b[0m\n\u001b[0;32m----> 7\u001b[0;31m     \u001b[0maccuracy\u001b[0m \u001b[0;34m=\u001b[0m \u001b[0mnp\u001b[0m\u001b[0;34m.\u001b[0m\u001b[0mmean\u001b[0m\u001b[0;34m(\u001b[0m\u001b[0mpredicted_classes\u001b[0m \u001b[0;34m==\u001b[0m \u001b[0mactual_classes\u001b[0m\u001b[0;34m)\u001b[0m\u001b[0;34m\u001b[0m\u001b[0;34m\u001b[0m\u001b[0m\n\u001b[0m\u001b[1;32m      8\u001b[0m     \u001b[0;32mreturn\u001b[0m \u001b[0maccuracy\u001b[0m \u001b[0;34m*\u001b[0m \u001b[0;36m100\u001b[0m\u001b[0;34m\u001b[0m\u001b[0;34m\u001b[0m\u001b[0m\n\u001b[1;32m      9\u001b[0m \u001b[0;34m\u001b[0m\u001b[0m\n",
      "\u001b[0;32m~/anaconda3/lib/python3.7/site-packages/pandas/core/ops/common.py\u001b[0m in \u001b[0;36mnew_method\u001b[0;34m(self, other)\u001b[0m\n\u001b[1;32m     62\u001b[0m         \u001b[0mother\u001b[0m \u001b[0;34m=\u001b[0m \u001b[0mitem_from_zerodim\u001b[0m\u001b[0;34m(\u001b[0m\u001b[0mother\u001b[0m\u001b[0;34m)\u001b[0m\u001b[0;34m\u001b[0m\u001b[0;34m\u001b[0m\u001b[0m\n\u001b[1;32m     63\u001b[0m \u001b[0;34m\u001b[0m\u001b[0m\n\u001b[0;32m---> 64\u001b[0;31m         \u001b[0;32mreturn\u001b[0m \u001b[0mmethod\u001b[0m\u001b[0;34m(\u001b[0m\u001b[0mself\u001b[0m\u001b[0;34m,\u001b[0m \u001b[0mother\u001b[0m\u001b[0;34m)\u001b[0m\u001b[0;34m\u001b[0m\u001b[0;34m\u001b[0m\u001b[0m\n\u001b[0m\u001b[1;32m     65\u001b[0m \u001b[0;34m\u001b[0m\u001b[0m\n\u001b[1;32m     66\u001b[0m     \u001b[0;32mreturn\u001b[0m \u001b[0mnew_method\u001b[0m\u001b[0;34m\u001b[0m\u001b[0;34m\u001b[0m\u001b[0m\n",
      "\u001b[0;32m~/anaconda3/lib/python3.7/site-packages/pandas/core/ops/__init__.py\u001b[0m in \u001b[0;36mwrapper\u001b[0;34m(self, other)\u001b[0m\n\u001b[1;32m    524\u001b[0m         \u001b[0mrvalues\u001b[0m \u001b[0;34m=\u001b[0m \u001b[0mextract_array\u001b[0m\u001b[0;34m(\u001b[0m\u001b[0mother\u001b[0m\u001b[0;34m,\u001b[0m \u001b[0mextract_numpy\u001b[0m\u001b[0;34m=\u001b[0m\u001b[0;32mTrue\u001b[0m\u001b[0;34m)\u001b[0m\u001b[0;34m\u001b[0m\u001b[0;34m\u001b[0m\u001b[0m\n\u001b[1;32m    525\u001b[0m \u001b[0;34m\u001b[0m\u001b[0m\n\u001b[0;32m--> 526\u001b[0;31m         \u001b[0mres_values\u001b[0m \u001b[0;34m=\u001b[0m \u001b[0mcomparison_op\u001b[0m\u001b[0;34m(\u001b[0m\u001b[0mlvalues\u001b[0m\u001b[0;34m,\u001b[0m \u001b[0mrvalues\u001b[0m\u001b[0;34m,\u001b[0m \u001b[0mop\u001b[0m\u001b[0;34m)\u001b[0m\u001b[0;34m\u001b[0m\u001b[0;34m\u001b[0m\u001b[0m\n\u001b[0m\u001b[1;32m    527\u001b[0m \u001b[0;34m\u001b[0m\u001b[0m\n\u001b[1;32m    528\u001b[0m         \u001b[0;32mreturn\u001b[0m \u001b[0m_construct_result\u001b[0m\u001b[0;34m(\u001b[0m\u001b[0mself\u001b[0m\u001b[0;34m,\u001b[0m \u001b[0mres_values\u001b[0m\u001b[0;34m,\u001b[0m \u001b[0mindex\u001b[0m\u001b[0;34m=\u001b[0m\u001b[0mself\u001b[0m\u001b[0;34m.\u001b[0m\u001b[0mindex\u001b[0m\u001b[0;34m,\u001b[0m \u001b[0mname\u001b[0m\u001b[0;34m=\u001b[0m\u001b[0mres_name\u001b[0m\u001b[0;34m)\u001b[0m\u001b[0;34m\u001b[0m\u001b[0;34m\u001b[0m\u001b[0m\n",
      "\u001b[0;32m~/anaconda3/lib/python3.7/site-packages/pandas/core/ops/array_ops.py\u001b[0m in \u001b[0;36mcomparison_op\u001b[0;34m(left, right, op)\u001b[0m\n\u001b[1;32m    232\u001b[0m         \u001b[0;31m#  The ambiguous case is object-dtype.  See GH#27803\u001b[0m\u001b[0;34m\u001b[0m\u001b[0;34m\u001b[0m\u001b[0;34m\u001b[0m\u001b[0m\n\u001b[1;32m    233\u001b[0m         \u001b[0;32mif\u001b[0m \u001b[0mlen\u001b[0m\u001b[0;34m(\u001b[0m\u001b[0mlvalues\u001b[0m\u001b[0;34m)\u001b[0m \u001b[0;34m!=\u001b[0m \u001b[0mlen\u001b[0m\u001b[0;34m(\u001b[0m\u001b[0mrvalues\u001b[0m\u001b[0;34m)\u001b[0m\u001b[0;34m:\u001b[0m\u001b[0;34m\u001b[0m\u001b[0;34m\u001b[0m\u001b[0m\n\u001b[0;32m--> 234\u001b[0;31m             \u001b[0;32mraise\u001b[0m \u001b[0mValueError\u001b[0m\u001b[0;34m(\u001b[0m\u001b[0;34m\"Lengths must match to compare\"\u001b[0m\u001b[0;34m)\u001b[0m\u001b[0;34m\u001b[0m\u001b[0;34m\u001b[0m\u001b[0m\n\u001b[0m\u001b[1;32m    235\u001b[0m \u001b[0;34m\u001b[0m\u001b[0m\n\u001b[1;32m    236\u001b[0m     \u001b[0;32mif\u001b[0m \u001b[0mshould_extension_dispatch\u001b[0m\u001b[0;34m(\u001b[0m\u001b[0mlvalues\u001b[0m\u001b[0;34m,\u001b[0m \u001b[0mrvalues\u001b[0m\u001b[0;34m)\u001b[0m\u001b[0;34m:\u001b[0m\u001b[0;34m\u001b[0m\u001b[0;34m\u001b[0m\u001b[0m\n",
      "\u001b[0;31mValueError\u001b[0m: Lengths must match to compare"
     ]
    }
   ],
   "source": [
    "def predict(x):\n",
    "    return sigmoid(np.dot(x, theta))\n",
    "def accuracy(x, actual_classes, probab_threshold=0.5):\n",
    "    predicted_classes = (predict(x) >= \n",
    "                         probab_threshold).astype(int)\n",
    "    predicted_classes = predicted_classes.flatten()\n",
    "    accuracy = np.mean(predicted_classes == actual_classes)\n",
    "    return accuracy * 100\n",
    "\n",
    "data_test = data_test.iloc[:,:-1]\n",
    "m, n = data_test.shape\n",
    "\n",
    "data_test = np.concatenate((np.ones((m, 1)), data_test), axis=1)\n",
    "\n",
    "\n",
    "acc = accuracy(data_test,data.admission )\n",
    "print(f\"Accuraccy of our model is: {acc}%\")"
   ]
  },
  {
   "cell_type": "code",
   "execution_count": 14,
   "metadata": {},
   "outputs": [
    {
     "data": {
      "text/plain": [
       "array([[ 1.        , 32.72283304, 43.30717306],\n",
       "       [ 1.        , 64.03932042, 78.03168802],\n",
       "       [ 1.        , 72.34649423, 96.22759297],\n",
       "       [ 1.        , 60.45788574, 73.0949981 ],\n",
       "       [ 1.        , 58.84095622, 75.85844831],\n",
       "       [ 1.        , 99.8278578 , 72.36925193],\n",
       "       [ 1.        , 47.26426911, 88.475865  ],\n",
       "       [ 1.        , 50.4581598 , 75.80985953],\n",
       "       [ 1.        , 60.45555629, 42.50840944],\n",
       "       [ 1.        , 82.22666158, 42.71987854],\n",
       "       [ 1.        , 88.91389642, 69.8037889 ],\n",
       "       [ 1.        , 94.83450672, 45.6943068 ],\n",
       "       [ 1.        , 67.31925747, 66.58935318],\n",
       "       [ 1.        , 57.23870632, 59.51428198],\n",
       "       [ 1.        , 80.366756  , 90.9601479 ],\n",
       "       [ 1.        , 68.46852179, 85.5943071 ],\n",
       "       [ 1.        , 42.07545454, 78.844786  ],\n",
       "       [ 1.        , 75.47770201, 90.424539  ],\n",
       "       [ 1.        , 78.63542435, 96.64742717],\n",
       "       [ 1.        , 52.34800399, 60.76950526],\n",
       "       [ 1.        , 94.09433113, 77.15910509],\n",
       "       [ 1.        , 90.44855097, 87.50879176],\n",
       "       [ 1.        , 55.48216114, 35.57070347],\n",
       "       [ 1.        , 74.49269242, 84.84513685],\n",
       "       [ 1.        , 89.84580671, 45.35828361],\n",
       "       [ 1.        , 83.48916274, 48.3802858 ],\n",
       "       [ 1.        , 42.26170081, 87.10385094],\n",
       "       [ 1.        , 99.31500881, 68.77540947],\n",
       "       [ 1.        , 55.34001756, 64.93193801],\n",
       "       [ 1.        , 74.775893  , 89.5298129 ]])"
      ]
     },
     "execution_count": 14,
     "metadata": {},
     "output_type": "execute_result"
    }
   ],
   "source": [
    "predict(data)"
   ]
  },
  {
   "cell_type": "code",
   "execution_count": null,
   "metadata": {},
   "outputs": [],
   "source": []
  }
 ],
 "metadata": {
  "kernelspec": {
   "display_name": "Python 3",
   "language": "python",
   "name": "python3"
  },
  "language_info": {
   "codemirror_mode": {
    "name": "ipython",
    "version": 3
   },
   "file_extension": ".py",
   "mimetype": "text/x-python",
   "name": "python",
   "nbconvert_exporter": "python",
   "pygments_lexer": "ipython3",
   "version": "3.7.6"
  }
 },
 "nbformat": 4,
 "nbformat_minor": 4
}
